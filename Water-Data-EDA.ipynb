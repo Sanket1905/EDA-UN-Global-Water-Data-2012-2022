{
 "cells": [
  {
   "cell_type": "code",
   "execution_count": 1,
   "id": "e403bfed",
   "metadata": {
    "_cell_guid": "b1076dfc-b9ad-4769-8c92-a6c4dae69d19",
    "_uuid": "8f2839f25d086af736a60e9eeb907d3b93b6e0e5",
    "execution": {
     "iopub.execute_input": "2024-04-01T19:57:19.780106Z",
     "iopub.status.busy": "2024-04-01T19:57:19.779372Z",
     "iopub.status.idle": "2024-04-01T19:57:24.552371Z",
     "shell.execute_reply": "2024-04-01T19:57:24.550911Z"
    },
    "papermill": {
     "duration": 4.781314,
     "end_time": "2024-04-01T19:57:24.554779",
     "exception": false,
     "start_time": "2024-04-01T19:57:19.773465",
     "status": "completed"
    },
    "tags": []
   },
   "outputs": [
    {
     "name": "stdout",
     "output_type": "stream",
     "text": [
      "/kaggle/input/un-global-water-data-2012-2022/water.csv\n"
     ]
    }
   ],
   "source": [
    "import pandas as pd\n",
    "import numpy as np\n",
    "import matplotlib.pyplot as plt\n",
    "import seaborn as sns\n",
    "import statsmodels.api as sm\n",
    "import plotly.express as px\n",
    "\n",
    "from scipy.stats import shapiro\n",
    "from scipy.stats import zscore\n",
    "from sklearn.metrics import r2_score\n",
    "from sklearn.metrics import accuracy_score, precision_score,\\\n",
    "    recall_score, f1_score\n",
    "\n",
    "from sklearn.model_selection import train_test_split\n",
    "from sklearn.metrics import accuracy_score\n",
    "from sklearn.calibration import LabelEncoder\n",
    "from sklearn.ensemble import RandomForestClassifier\n",
    "\n",
    "from sklearn.linear_model import LinearRegression\n",
    "from sklearn.preprocessing import RobustScaler\n",
    "import os\n",
    "for dirname, _, filenames in os.walk('/kaggle/input'):\n",
    "    for filename in filenames:\n",
    "        print(os.path.join(dirname, filename))"
   ]
  },
  {
   "cell_type": "code",
   "execution_count": 2,
   "id": "42bd7370",
   "metadata": {
    "execution": {
     "iopub.execute_input": "2024-04-01T19:57:24.565328Z",
     "iopub.status.busy": "2024-04-01T19:57:24.564408Z",
     "iopub.status.idle": "2024-04-01T19:57:24.868016Z",
     "shell.execute_reply": "2024-04-01T19:57:24.866904Z"
    },
    "papermill": {
     "duration": 0.311741,
     "end_time": "2024-04-01T19:57:24.871152",
     "exception": false,
     "start_time": "2024-04-01T19:57:24.559411",
     "status": "completed"
    },
    "tags": []
   },
   "outputs": [
    {
     "data": {
      "text/html": [
       "<div>\n",
       "<style scoped>\n",
       "    .dataframe tbody tr th:only-of-type {\n",
       "        vertical-align: middle;\n",
       "    }\n",
       "\n",
       "    .dataframe tbody tr th {\n",
       "        vertical-align: top;\n",
       "    }\n",
       "\n",
       "    .dataframe thead th {\n",
       "        text-align: right;\n",
       "    }\n",
       "</style>\n",
       "<table border=\"1\" class=\"dataframe\">\n",
       "  <thead>\n",
       "    <tr style=\"text-align: right;\">\n",
       "      <th></th>\n",
       "      <th>DATAFLOW</th>\n",
       "      <th>REF_AREA:Geographic area</th>\n",
       "      <th>INDICATOR:Indicator</th>\n",
       "      <th>SEX:Sex</th>\n",
       "      <th>TIME_PERIOD:Time period</th>\n",
       "      <th>OBS_VALUE:Observation Value</th>\n",
       "      <th>UNIT_MULTIPLIER:Unit multiplier</th>\n",
       "      <th>UNIT_MEASURE:Unit of measure</th>\n",
       "      <th>OBS_STATUS:Observation Status</th>\n",
       "      <th>OBS_CONF:Observation confidentaility</th>\n",
       "      <th>...</th>\n",
       "      <th>WGTD_SAMPL_SIZE:Weighted Sample Size</th>\n",
       "      <th>OBS_FOOTNOTE:Observation footnote</th>\n",
       "      <th>SERIES_FOOTNOTE:Series footnote</th>\n",
       "      <th>DATA_SOURCE:Data Source</th>\n",
       "      <th>SOURCE_LINK:Citation of or link to the data source</th>\n",
       "      <th>CUSTODIAN:Custodian</th>\n",
       "      <th>TIME_PERIOD_METHOD:Time period activity related to when the data are collected</th>\n",
       "      <th>REF_PERIOD:Reference Period</th>\n",
       "      <th>COVERAGE_TIME:The period of time for which data are provided</th>\n",
       "      <th>AGE:Current age</th>\n",
       "    </tr>\n",
       "  </thead>\n",
       "  <tbody>\n",
       "    <tr>\n",
       "      <th>0</th>\n",
       "      <td>UNICEF:GLOBAL_DATAFLOW(1.0): Cross-sector indi...</td>\n",
       "      <td>AFG: Afghanistan</td>\n",
       "      <td>WS_PPL_H-N: Proportion of population with no h...</td>\n",
       "      <td>_T: Total</td>\n",
       "      <td>2012</td>\n",
       "      <td>30.777313</td>\n",
       "      <td>NaN</td>\n",
       "      <td>PCNT: %</td>\n",
       "      <td>NaN</td>\n",
       "      <td>NaN</td>\n",
       "      <td>...</td>\n",
       "      <td>NaN</td>\n",
       "      <td>NaN</td>\n",
       "      <td>NaN</td>\n",
       "      <td>WHO/UNICEF Joint Monitoring Programme (2023)</td>\n",
       "      <td>NaN</td>\n",
       "      <td>NaN</td>\n",
       "      <td>NaN</td>\n",
       "      <td>NaN</td>\n",
       "      <td>NaN</td>\n",
       "      <td>_T: Total</td>\n",
       "    </tr>\n",
       "    <tr>\n",
       "      <th>1</th>\n",
       "      <td>UNICEF:GLOBAL_DATAFLOW(1.0): Cross-sector indi...</td>\n",
       "      <td>AFG: Afghanistan</td>\n",
       "      <td>WS_PPL_H-N: Proportion of population with no h...</td>\n",
       "      <td>_T: Total</td>\n",
       "      <td>2013</td>\n",
       "      <td>28.224066</td>\n",
       "      <td>NaN</td>\n",
       "      <td>PCNT: %</td>\n",
       "      <td>NaN</td>\n",
       "      <td>NaN</td>\n",
       "      <td>...</td>\n",
       "      <td>NaN</td>\n",
       "      <td>NaN</td>\n",
       "      <td>NaN</td>\n",
       "      <td>WHO/UNICEF Joint Monitoring Programme (2023)</td>\n",
       "      <td>NaN</td>\n",
       "      <td>NaN</td>\n",
       "      <td>NaN</td>\n",
       "      <td>NaN</td>\n",
       "      <td>NaN</td>\n",
       "      <td>_T: Total</td>\n",
       "    </tr>\n",
       "    <tr>\n",
       "      <th>2</th>\n",
       "      <td>UNICEF:GLOBAL_DATAFLOW(1.0): Cross-sector indi...</td>\n",
       "      <td>AFG: Afghanistan</td>\n",
       "      <td>WS_PPL_H-N: Proportion of population with no h...</td>\n",
       "      <td>_T: Total</td>\n",
       "      <td>2014</td>\n",
       "      <td>25.679155</td>\n",
       "      <td>NaN</td>\n",
       "      <td>PCNT: %</td>\n",
       "      <td>NaN</td>\n",
       "      <td>NaN</td>\n",
       "      <td>...</td>\n",
       "      <td>NaN</td>\n",
       "      <td>NaN</td>\n",
       "      <td>NaN</td>\n",
       "      <td>WHO/UNICEF Joint Monitoring Programme (2023)</td>\n",
       "      <td>NaN</td>\n",
       "      <td>NaN</td>\n",
       "      <td>NaN</td>\n",
       "      <td>NaN</td>\n",
       "      <td>NaN</td>\n",
       "      <td>_T: Total</td>\n",
       "    </tr>\n",
       "    <tr>\n",
       "      <th>3</th>\n",
       "      <td>UNICEF:GLOBAL_DATAFLOW(1.0): Cross-sector indi...</td>\n",
       "      <td>AFG: Afghanistan</td>\n",
       "      <td>WS_PPL_H-N: Proportion of population with no h...</td>\n",
       "      <td>_T: Total</td>\n",
       "      <td>2015</td>\n",
       "      <td>23.142490</td>\n",
       "      <td>NaN</td>\n",
       "      <td>PCNT: %</td>\n",
       "      <td>NaN</td>\n",
       "      <td>NaN</td>\n",
       "      <td>...</td>\n",
       "      <td>NaN</td>\n",
       "      <td>NaN</td>\n",
       "      <td>NaN</td>\n",
       "      <td>WHO/UNICEF Joint Monitoring Programme (2023)</td>\n",
       "      <td>NaN</td>\n",
       "      <td>NaN</td>\n",
       "      <td>NaN</td>\n",
       "      <td>NaN</td>\n",
       "      <td>NaN</td>\n",
       "      <td>_T: Total</td>\n",
       "    </tr>\n",
       "    <tr>\n",
       "      <th>4</th>\n",
       "      <td>UNICEF:GLOBAL_DATAFLOW(1.0): Cross-sector indi...</td>\n",
       "      <td>AFG: Afghanistan</td>\n",
       "      <td>WS_PPL_H-N: Proportion of population with no h...</td>\n",
       "      <td>_T: Total</td>\n",
       "      <td>2016</td>\n",
       "      <td>20.614330</td>\n",
       "      <td>NaN</td>\n",
       "      <td>PCNT: %</td>\n",
       "      <td>NaN</td>\n",
       "      <td>NaN</td>\n",
       "      <td>...</td>\n",
       "      <td>NaN</td>\n",
       "      <td>NaN</td>\n",
       "      <td>NaN</td>\n",
       "      <td>WHO/UNICEF Joint Monitoring Programme (2023)</td>\n",
       "      <td>NaN</td>\n",
       "      <td>NaN</td>\n",
       "      <td>NaN</td>\n",
       "      <td>NaN</td>\n",
       "      <td>NaN</td>\n",
       "      <td>_T: Total</td>\n",
       "    </tr>\n",
       "  </tbody>\n",
       "</table>\n",
       "<p>5 rows × 22 columns</p>\n",
       "</div>"
      ],
      "text/plain": [
       "                                            DATAFLOW REF_AREA:Geographic area  \\\n",
       "0  UNICEF:GLOBAL_DATAFLOW(1.0): Cross-sector indi...         AFG: Afghanistan   \n",
       "1  UNICEF:GLOBAL_DATAFLOW(1.0): Cross-sector indi...         AFG: Afghanistan   \n",
       "2  UNICEF:GLOBAL_DATAFLOW(1.0): Cross-sector indi...         AFG: Afghanistan   \n",
       "3  UNICEF:GLOBAL_DATAFLOW(1.0): Cross-sector indi...         AFG: Afghanistan   \n",
       "4  UNICEF:GLOBAL_DATAFLOW(1.0): Cross-sector indi...         AFG: Afghanistan   \n",
       "\n",
       "                                 INDICATOR:Indicator    SEX:Sex  \\\n",
       "0  WS_PPL_H-N: Proportion of population with no h...  _T: Total   \n",
       "1  WS_PPL_H-N: Proportion of population with no h...  _T: Total   \n",
       "2  WS_PPL_H-N: Proportion of population with no h...  _T: Total   \n",
       "3  WS_PPL_H-N: Proportion of population with no h...  _T: Total   \n",
       "4  WS_PPL_H-N: Proportion of population with no h...  _T: Total   \n",
       "\n",
       "   TIME_PERIOD:Time period  OBS_VALUE:Observation Value  \\\n",
       "0                     2012                    30.777313   \n",
       "1                     2013                    28.224066   \n",
       "2                     2014                    25.679155   \n",
       "3                     2015                    23.142490   \n",
       "4                     2016                    20.614330   \n",
       "\n",
       "   UNIT_MULTIPLIER:Unit multiplier UNIT_MEASURE:Unit of measure  \\\n",
       "0                              NaN                      PCNT: %   \n",
       "1                              NaN                      PCNT: %   \n",
       "2                              NaN                      PCNT: %   \n",
       "3                              NaN                      PCNT: %   \n",
       "4                              NaN                      PCNT: %   \n",
       "\n",
       "   OBS_STATUS:Observation Status  OBS_CONF:Observation confidentaility  ...  \\\n",
       "0                            NaN                                   NaN  ...   \n",
       "1                            NaN                                   NaN  ...   \n",
       "2                            NaN                                   NaN  ...   \n",
       "3                            NaN                                   NaN  ...   \n",
       "4                            NaN                                   NaN  ...   \n",
       "\n",
       "   WGTD_SAMPL_SIZE:Weighted Sample Size  OBS_FOOTNOTE:Observation footnote  \\\n",
       "0                                   NaN                                NaN   \n",
       "1                                   NaN                                NaN   \n",
       "2                                   NaN                                NaN   \n",
       "3                                   NaN                                NaN   \n",
       "4                                   NaN                                NaN   \n",
       "\n",
       "   SERIES_FOOTNOTE:Series footnote  \\\n",
       "0                              NaN   \n",
       "1                              NaN   \n",
       "2                              NaN   \n",
       "3                              NaN   \n",
       "4                              NaN   \n",
       "\n",
       "                        DATA_SOURCE:Data Source  \\\n",
       "0  WHO/UNICEF Joint Monitoring Programme (2023)   \n",
       "1  WHO/UNICEF Joint Monitoring Programme (2023)   \n",
       "2  WHO/UNICEF Joint Monitoring Programme (2023)   \n",
       "3  WHO/UNICEF Joint Monitoring Programme (2023)   \n",
       "4  WHO/UNICEF Joint Monitoring Programme (2023)   \n",
       "\n",
       "   SOURCE_LINK:Citation of or link to the data source CUSTODIAN:Custodian  \\\n",
       "0                                                NaN                  NaN   \n",
       "1                                                NaN                  NaN   \n",
       "2                                                NaN                  NaN   \n",
       "3                                                NaN                  NaN   \n",
       "4                                                NaN                  NaN   \n",
       "\n",
       "   TIME_PERIOD_METHOD:Time period activity related to when the data are collected  \\\n",
       "0                                                NaN                                \n",
       "1                                                NaN                                \n",
       "2                                                NaN                                \n",
       "3                                                NaN                                \n",
       "4                                                NaN                                \n",
       "\n",
       "   REF_PERIOD:Reference Period  \\\n",
       "0                          NaN   \n",
       "1                          NaN   \n",
       "2                          NaN   \n",
       "3                          NaN   \n",
       "4                          NaN   \n",
       "\n",
       "   COVERAGE_TIME:The period of time for which data are provided  \\\n",
       "0                                                NaN              \n",
       "1                                                NaN              \n",
       "2                                                NaN              \n",
       "3                                                NaN              \n",
       "4                                                NaN              \n",
       "\n",
       "   AGE:Current age  \n",
       "0        _T: Total  \n",
       "1        _T: Total  \n",
       "2        _T: Total  \n",
       "3        _T: Total  \n",
       "4        _T: Total  \n",
       "\n",
       "[5 rows x 22 columns]"
      ]
     },
     "execution_count": 2,
     "metadata": {},
     "output_type": "execute_result"
    }
   ],
   "source": [
    "df = pd.read_csv(\"/kaggle/input/un-global-water-data-2012-2022/water.csv\")\n",
    "df.head()"
   ]
  },
  {
   "cell_type": "code",
   "execution_count": 3,
   "id": "bf4fa6f1",
   "metadata": {
    "execution": {
     "iopub.execute_input": "2024-04-01T19:57:24.885646Z",
     "iopub.status.busy": "2024-04-01T19:57:24.884798Z",
     "iopub.status.idle": "2024-04-01T19:57:24.892610Z",
     "shell.execute_reply": "2024-04-01T19:57:24.891411Z"
    },
    "papermill": {
     "duration": 0.017247,
     "end_time": "2024-04-01T19:57:24.894845",
     "exception": false,
     "start_time": "2024-04-01T19:57:24.877598",
     "status": "completed"
    },
    "tags": []
   },
   "outputs": [
    {
     "data": {
      "text/plain": [
       "(36519, 22)"
      ]
     },
     "execution_count": 3,
     "metadata": {},
     "output_type": "execute_result"
    }
   ],
   "source": [
    "df.shape"
   ]
  },
  {
   "cell_type": "code",
   "execution_count": 4,
   "id": "bacea9f1",
   "metadata": {
    "execution": {
     "iopub.execute_input": "2024-04-01T19:57:24.906145Z",
     "iopub.status.busy": "2024-04-01T19:57:24.905325Z",
     "iopub.status.idle": "2024-04-01T19:57:24.941450Z",
     "shell.execute_reply": "2024-04-01T19:57:24.940630Z"
    },
    "papermill": {
     "duration": 0.044898,
     "end_time": "2024-04-01T19:57:24.944385",
     "exception": false,
     "start_time": "2024-04-01T19:57:24.899487",
     "status": "completed"
    },
    "tags": []
   },
   "outputs": [
    {
     "data": {
      "text/plain": [
       "DATAFLOW                                                                              0\n",
       "REF_AREA:Geographic area                                                              0\n",
       "INDICATOR:Indicator                                                                   0\n",
       "SEX:Sex                                                                               0\n",
       "TIME_PERIOD:Time period                                                               0\n",
       "OBS_VALUE:Observation Value                                                           0\n",
       "UNIT_MULTIPLIER:Unit multiplier                                                   36519\n",
       "UNIT_MEASURE:Unit of measure                                                          0\n",
       "OBS_STATUS:Observation Status                                                     36519\n",
       "OBS_CONF:Observation confidentaility                                              36519\n",
       "LOWER_BOUND:Lower Bound                                                           36519\n",
       "UPPER_BOUND:Upper Bound                                                           36519\n",
       "WGTD_SAMPL_SIZE:Weighted Sample Size                                              36519\n",
       "OBS_FOOTNOTE:Observation footnote                                                 36519\n",
       "SERIES_FOOTNOTE:Series footnote                                                   36519\n",
       "DATA_SOURCE:Data Source                                                               0\n",
       "SOURCE_LINK:Citation of or link to the data source                                36519\n",
       "CUSTODIAN:Custodian                                                               36519\n",
       "TIME_PERIOD_METHOD:Time period activity related to when the data are collected    36519\n",
       "REF_PERIOD:Reference Period                                                       36519\n",
       "COVERAGE_TIME:The period of time for which data are provided                      36519\n",
       "AGE:Current age                                                                       0\n",
       "dtype: int64"
      ]
     },
     "execution_count": 4,
     "metadata": {},
     "output_type": "execute_result"
    }
   ],
   "source": [
    "df.isnull().sum()"
   ]
  },
  {
   "cell_type": "code",
   "execution_count": 5,
   "id": "a0fe04f2",
   "metadata": {
    "execution": {
     "iopub.execute_input": "2024-04-01T19:57:24.959796Z",
     "iopub.status.busy": "2024-04-01T19:57:24.958936Z",
     "iopub.status.idle": "2024-04-01T19:57:25.003586Z",
     "shell.execute_reply": "2024-04-01T19:57:25.002755Z"
    },
    "papermill": {
     "duration": 0.055101,
     "end_time": "2024-04-01T19:57:25.006563",
     "exception": false,
     "start_time": "2024-04-01T19:57:24.951462",
     "status": "completed"
    },
    "tags": []
   },
   "outputs": [
    {
     "data": {
      "text/html": [
       "<div>\n",
       "<style scoped>\n",
       "    .dataframe tbody tr th:only-of-type {\n",
       "        vertical-align: middle;\n",
       "    }\n",
       "\n",
       "    .dataframe tbody tr th {\n",
       "        vertical-align: top;\n",
       "    }\n",
       "\n",
       "    .dataframe thead th {\n",
       "        text-align: right;\n",
       "    }\n",
       "</style>\n",
       "<table border=\"1\" class=\"dataframe\">\n",
       "  <thead>\n",
       "    <tr style=\"text-align: right;\">\n",
       "      <th></th>\n",
       "      <th>DATAFLOW</th>\n",
       "      <th>REF_AREA:Geographic area</th>\n",
       "      <th>INDICATOR:Indicator</th>\n",
       "      <th>SEX:Sex</th>\n",
       "      <th>TIME_PERIOD:Time period</th>\n",
       "      <th>OBS_VALUE:Observation Value</th>\n",
       "      <th>UNIT_MEASURE:Unit of measure</th>\n",
       "      <th>DATA_SOURCE:Data Source</th>\n",
       "      <th>AGE:Current age</th>\n",
       "    </tr>\n",
       "  </thead>\n",
       "  <tbody>\n",
       "    <tr>\n",
       "      <th>0</th>\n",
       "      <td>UNICEF:GLOBAL_DATAFLOW(1.0): Cross-sector indi...</td>\n",
       "      <td>AFG: Afghanistan</td>\n",
       "      <td>WS_PPL_H-N: Proportion of population with no h...</td>\n",
       "      <td>_T: Total</td>\n",
       "      <td>2012</td>\n",
       "      <td>30.777313</td>\n",
       "      <td>PCNT: %</td>\n",
       "      <td>WHO/UNICEF Joint Monitoring Programme (2023)</td>\n",
       "      <td>_T: Total</td>\n",
       "    </tr>\n",
       "    <tr>\n",
       "      <th>1</th>\n",
       "      <td>UNICEF:GLOBAL_DATAFLOW(1.0): Cross-sector indi...</td>\n",
       "      <td>AFG: Afghanistan</td>\n",
       "      <td>WS_PPL_H-N: Proportion of population with no h...</td>\n",
       "      <td>_T: Total</td>\n",
       "      <td>2013</td>\n",
       "      <td>28.224066</td>\n",
       "      <td>PCNT: %</td>\n",
       "      <td>WHO/UNICEF Joint Monitoring Programme (2023)</td>\n",
       "      <td>_T: Total</td>\n",
       "    </tr>\n",
       "    <tr>\n",
       "      <th>2</th>\n",
       "      <td>UNICEF:GLOBAL_DATAFLOW(1.0): Cross-sector indi...</td>\n",
       "      <td>AFG: Afghanistan</td>\n",
       "      <td>WS_PPL_H-N: Proportion of population with no h...</td>\n",
       "      <td>_T: Total</td>\n",
       "      <td>2014</td>\n",
       "      <td>25.679155</td>\n",
       "      <td>PCNT: %</td>\n",
       "      <td>WHO/UNICEF Joint Monitoring Programme (2023)</td>\n",
       "      <td>_T: Total</td>\n",
       "    </tr>\n",
       "    <tr>\n",
       "      <th>3</th>\n",
       "      <td>UNICEF:GLOBAL_DATAFLOW(1.0): Cross-sector indi...</td>\n",
       "      <td>AFG: Afghanistan</td>\n",
       "      <td>WS_PPL_H-N: Proportion of population with no h...</td>\n",
       "      <td>_T: Total</td>\n",
       "      <td>2015</td>\n",
       "      <td>23.142490</td>\n",
       "      <td>PCNT: %</td>\n",
       "      <td>WHO/UNICEF Joint Monitoring Programme (2023)</td>\n",
       "      <td>_T: Total</td>\n",
       "    </tr>\n",
       "    <tr>\n",
       "      <th>4</th>\n",
       "      <td>UNICEF:GLOBAL_DATAFLOW(1.0): Cross-sector indi...</td>\n",
       "      <td>AFG: Afghanistan</td>\n",
       "      <td>WS_PPL_H-N: Proportion of population with no h...</td>\n",
       "      <td>_T: Total</td>\n",
       "      <td>2016</td>\n",
       "      <td>20.614330</td>\n",
       "      <td>PCNT: %</td>\n",
       "      <td>WHO/UNICEF Joint Monitoring Programme (2023)</td>\n",
       "      <td>_T: Total</td>\n",
       "    </tr>\n",
       "  </tbody>\n",
       "</table>\n",
       "</div>"
      ],
      "text/plain": [
       "                                            DATAFLOW REF_AREA:Geographic area  \\\n",
       "0  UNICEF:GLOBAL_DATAFLOW(1.0): Cross-sector indi...         AFG: Afghanistan   \n",
       "1  UNICEF:GLOBAL_DATAFLOW(1.0): Cross-sector indi...         AFG: Afghanistan   \n",
       "2  UNICEF:GLOBAL_DATAFLOW(1.0): Cross-sector indi...         AFG: Afghanistan   \n",
       "3  UNICEF:GLOBAL_DATAFLOW(1.0): Cross-sector indi...         AFG: Afghanistan   \n",
       "4  UNICEF:GLOBAL_DATAFLOW(1.0): Cross-sector indi...         AFG: Afghanistan   \n",
       "\n",
       "                                 INDICATOR:Indicator    SEX:Sex  \\\n",
       "0  WS_PPL_H-N: Proportion of population with no h...  _T: Total   \n",
       "1  WS_PPL_H-N: Proportion of population with no h...  _T: Total   \n",
       "2  WS_PPL_H-N: Proportion of population with no h...  _T: Total   \n",
       "3  WS_PPL_H-N: Proportion of population with no h...  _T: Total   \n",
       "4  WS_PPL_H-N: Proportion of population with no h...  _T: Total   \n",
       "\n",
       "   TIME_PERIOD:Time period  OBS_VALUE:Observation Value  \\\n",
       "0                     2012                    30.777313   \n",
       "1                     2013                    28.224066   \n",
       "2                     2014                    25.679155   \n",
       "3                     2015                    23.142490   \n",
       "4                     2016                    20.614330   \n",
       "\n",
       "  UNIT_MEASURE:Unit of measure                       DATA_SOURCE:Data Source  \\\n",
       "0                      PCNT: %  WHO/UNICEF Joint Monitoring Programme (2023)   \n",
       "1                      PCNT: %  WHO/UNICEF Joint Monitoring Programme (2023)   \n",
       "2                      PCNT: %  WHO/UNICEF Joint Monitoring Programme (2023)   \n",
       "3                      PCNT: %  WHO/UNICEF Joint Monitoring Programme (2023)   \n",
       "4                      PCNT: %  WHO/UNICEF Joint Monitoring Programme (2023)   \n",
       "\n",
       "  AGE:Current age  \n",
       "0       _T: Total  \n",
       "1       _T: Total  \n",
       "2       _T: Total  \n",
       "3       _T: Total  \n",
       "4       _T: Total  "
      ]
     },
     "execution_count": 5,
     "metadata": {},
     "output_type": "execute_result"
    }
   ],
   "source": [
    "df = df.dropna(axis=1, how='all')\n",
    "df.head()"
   ]
  },
  {
   "cell_type": "code",
   "execution_count": 6,
   "id": "82a9aa0d",
   "metadata": {
    "execution": {
     "iopub.execute_input": "2024-04-01T19:57:25.024670Z",
     "iopub.status.busy": "2024-04-01T19:57:25.023830Z",
     "iopub.status.idle": "2024-04-01T19:57:25.030643Z",
     "shell.execute_reply": "2024-04-01T19:57:25.029865Z"
    },
    "papermill": {
     "duration": 0.018656,
     "end_time": "2024-04-01T19:57:25.033250",
     "exception": false,
     "start_time": "2024-04-01T19:57:25.014594",
     "status": "completed"
    },
    "tags": []
   },
   "outputs": [],
   "source": [
    "df = df.rename(columns={\n",
    "    \"REF_AREA:Geographic area\":\"REF_AREA\",\n",
    "    \"INDICATOR:Indicator\":\"INDICATOR\",\n",
    "    \"TIME_PERIOD:Time period\":\"TIME_PERIOD\",\n",
    "    \"OBS_VALUE:Observation Value\":\"OBS_VALUE\",\n",
    "    \"UNIT_MEASURE:Unit of measure\":\"UNIT_MEASURE\",\n",
    "    \"DATA_SOURCE:Data Source\":\"DATA_SOURCE\",\n",
    "    \"AGE:Current age\":\"AGE\",\n",
    "})"
   ]
  },
  {
   "cell_type": "code",
   "execution_count": 7,
   "id": "954b2bd3",
   "metadata": {
    "execution": {
     "iopub.execute_input": "2024-04-01T19:57:25.049335Z",
     "iopub.status.busy": "2024-04-01T19:57:25.048916Z",
     "iopub.status.idle": "2024-04-01T19:57:25.070564Z",
     "shell.execute_reply": "2024-04-01T19:57:25.069391Z"
    },
    "papermill": {
     "duration": 0.031933,
     "end_time": "2024-04-01T19:57:25.072863",
     "exception": false,
     "start_time": "2024-04-01T19:57:25.040930",
     "status": "completed"
    },
    "tags": []
   },
   "outputs": [
    {
     "data": {
      "text/plain": [
       "DATAFLOW        0\n",
       "REF_AREA        0\n",
       "INDICATOR       0\n",
       "SEX:Sex         0\n",
       "TIME_PERIOD     0\n",
       "OBS_VALUE       0\n",
       "UNIT_MEASURE    0\n",
       "DATA_SOURCE     0\n",
       "AGE             0\n",
       "dtype: int64"
      ]
     },
     "execution_count": 7,
     "metadata": {},
     "output_type": "execute_result"
    }
   ],
   "source": [
    "df.isnull().sum()"
   ]
  },
  {
   "cell_type": "code",
   "execution_count": 8,
   "id": "1c0fd503",
   "metadata": {
    "execution": {
     "iopub.execute_input": "2024-04-01T19:57:25.084892Z",
     "iopub.status.busy": "2024-04-01T19:57:25.084513Z",
     "iopub.status.idle": "2024-04-01T19:57:25.108175Z",
     "shell.execute_reply": "2024-04-01T19:57:25.107067Z"
    },
    "papermill": {
     "duration": 0.032269,
     "end_time": "2024-04-01T19:57:25.110392",
     "exception": false,
     "start_time": "2024-04-01T19:57:25.078123",
     "status": "completed"
    },
    "tags": []
   },
   "outputs": [
    {
     "data": {
      "text/html": [
       "<div>\n",
       "<style scoped>\n",
       "    .dataframe tbody tr th:only-of-type {\n",
       "        vertical-align: middle;\n",
       "    }\n",
       "\n",
       "    .dataframe tbody tr th {\n",
       "        vertical-align: top;\n",
       "    }\n",
       "\n",
       "    .dataframe thead th {\n",
       "        text-align: right;\n",
       "    }\n",
       "</style>\n",
       "<table border=\"1\" class=\"dataframe\">\n",
       "  <thead>\n",
       "    <tr style=\"text-align: right;\">\n",
       "      <th></th>\n",
       "      <th>TIME_PERIOD</th>\n",
       "      <th>OBS_VALUE</th>\n",
       "    </tr>\n",
       "  </thead>\n",
       "  <tbody>\n",
       "    <tr>\n",
       "      <th>count</th>\n",
       "      <td>36519.000000</td>\n",
       "      <td>36519.000000</td>\n",
       "    </tr>\n",
       "    <tr>\n",
       "      <th>mean</th>\n",
       "      <td>2016.848243</td>\n",
       "      <td>39.625292</td>\n",
       "    </tr>\n",
       "    <tr>\n",
       "      <th>std</th>\n",
       "      <td>3.091017</td>\n",
       "      <td>38.467088</td>\n",
       "    </tr>\n",
       "    <tr>\n",
       "      <th>min</th>\n",
       "      <td>2012.000000</td>\n",
       "      <td>0.000000</td>\n",
       "    </tr>\n",
       "    <tr>\n",
       "      <th>25%</th>\n",
       "      <td>2014.000000</td>\n",
       "      <td>2.294425</td>\n",
       "    </tr>\n",
       "    <tr>\n",
       "      <th>50%</th>\n",
       "      <td>2017.000000</td>\n",
       "      <td>26.165874</td>\n",
       "    </tr>\n",
       "    <tr>\n",
       "      <th>75%</th>\n",
       "      <td>2019.000000</td>\n",
       "      <td>80.827447</td>\n",
       "    </tr>\n",
       "    <tr>\n",
       "      <th>max</th>\n",
       "      <td>2022.000000</td>\n",
       "      <td>100.000000</td>\n",
       "    </tr>\n",
       "  </tbody>\n",
       "</table>\n",
       "</div>"
      ],
      "text/plain": [
       "        TIME_PERIOD     OBS_VALUE\n",
       "count  36519.000000  36519.000000\n",
       "mean    2016.848243     39.625292\n",
       "std        3.091017     38.467088\n",
       "min     2012.000000      0.000000\n",
       "25%     2014.000000      2.294425\n",
       "50%     2017.000000     26.165874\n",
       "75%     2019.000000     80.827447\n",
       "max     2022.000000    100.000000"
      ]
     },
     "execution_count": 8,
     "metadata": {},
     "output_type": "execute_result"
    }
   ],
   "source": [
    "df.describe()"
   ]
  },
  {
   "cell_type": "code",
   "execution_count": 9,
   "id": "62dc3b19",
   "metadata": {
    "execution": {
     "iopub.execute_input": "2024-04-01T19:57:25.123152Z",
     "iopub.status.busy": "2024-04-01T19:57:25.122390Z",
     "iopub.status.idle": "2024-04-01T19:57:25.161544Z",
     "shell.execute_reply": "2024-04-01T19:57:25.160408Z"
    },
    "papermill": {
     "duration": 0.047944,
     "end_time": "2024-04-01T19:57:25.163926",
     "exception": false,
     "start_time": "2024-04-01T19:57:25.115982",
     "status": "completed"
    },
    "tags": []
   },
   "outputs": [
    {
     "name": "stdout",
     "output_type": "stream",
     "text": [
      "<class 'pandas.core.frame.DataFrame'>\n",
      "RangeIndex: 36519 entries, 0 to 36518\n",
      "Data columns (total 9 columns):\n",
      " #   Column        Non-Null Count  Dtype  \n",
      "---  ------        --------------  -----  \n",
      " 0   DATAFLOW      36519 non-null  object \n",
      " 1   REF_AREA      36519 non-null  object \n",
      " 2   INDICATOR     36519 non-null  object \n",
      " 3   SEX:Sex       36519 non-null  object \n",
      " 4   TIME_PERIOD   36519 non-null  int64  \n",
      " 5   OBS_VALUE     36519 non-null  float64\n",
      " 6   UNIT_MEASURE  36519 non-null  object \n",
      " 7   DATA_SOURCE   36519 non-null  object \n",
      " 8   AGE           36519 non-null  object \n",
      "dtypes: float64(1), int64(1), object(7)\n",
      "memory usage: 2.5+ MB\n"
     ]
    }
   ],
   "source": [
    "df.info()"
   ]
  },
  {
   "cell_type": "code",
   "execution_count": 10,
   "id": "a699d458",
   "metadata": {
    "execution": {
     "iopub.execute_input": "2024-04-01T19:57:25.177526Z",
     "iopub.status.busy": "2024-04-01T19:57:25.176809Z",
     "iopub.status.idle": "2024-04-01T19:57:25.186433Z",
     "shell.execute_reply": "2024-04-01T19:57:25.185238Z"
    },
    "papermill": {
     "duration": 0.018833,
     "end_time": "2024-04-01T19:57:25.188679",
     "exception": false,
     "start_time": "2024-04-01T19:57:25.169846",
     "status": "completed"
    },
    "tags": []
   },
   "outputs": [
    {
     "data": {
      "text/plain": [
       "DATAFLOW         object\n",
       "REF_AREA         object\n",
       "INDICATOR        object\n",
       "SEX:Sex          object\n",
       "TIME_PERIOD       int64\n",
       "OBS_VALUE       float64\n",
       "UNIT_MEASURE     object\n",
       "DATA_SOURCE      object\n",
       "AGE              object\n",
       "dtype: object"
      ]
     },
     "execution_count": 10,
     "metadata": {},
     "output_type": "execute_result"
    }
   ],
   "source": [
    "df.dtypes"
   ]
  },
  {
   "cell_type": "code",
   "execution_count": 11,
   "id": "321ed880",
   "metadata": {
    "execution": {
     "iopub.execute_input": "2024-04-01T19:57:25.201746Z",
     "iopub.status.busy": "2024-04-01T19:57:25.201343Z",
     "iopub.status.idle": "2024-04-01T19:57:25.931044Z",
     "shell.execute_reply": "2024-04-01T19:57:25.929866Z"
    },
    "papermill": {
     "duration": 0.739082,
     "end_time": "2024-04-01T19:57:25.933421",
     "exception": false,
     "start_time": "2024-04-01T19:57:25.194339",
     "status": "completed"
    },
    "tags": []
   },
   "outputs": [
    {
     "name": "stderr",
     "output_type": "stream",
     "text": [
      "/opt/conda/lib/python3.10/site-packages/seaborn/_oldcore.py:1119: FutureWarning: use_inf_as_na option is deprecated and will be removed in a future version. Convert inf values to NaN before operating instead.\n",
      "  with pd.option_context('mode.use_inf_as_na', True):\n"
     ]
    },
    {
     "data": {
      "image/png": "[encoded data removed]",
      "text/plain": [
       "<Figure size 640x480 with 1 Axes>"
      ]
     },
     "metadata": {},
     "output_type": "display_data"
    }
   ],
   "source": [
    "sns.histplot(data=df, x=\"TIME_PERIOD\", bins=30, kde=True)\n",
    "plt.xlabel(\"Time Period\")\n",
    "plt.ylabel(\"Count\")\n",
    "plt.title(\"Histogram of Time Period\")\n",
    "plt.show()"
   ]
  },
  {
   "cell_type": "code",
   "execution_count": 12,
   "id": "a80971f9",
   "metadata": {
    "execution": {
     "iopub.execute_input": "2024-04-01T19:57:25.952339Z",
     "iopub.status.busy": "2024-04-01T19:57:25.950101Z",
     "iopub.status.idle": "2024-04-01T19:57:26.458490Z",
     "shell.execute_reply": "2024-04-01T19:57:26.457401Z"
    },
    "papermill": {
     "duration": 0.521552,
     "end_time": "2024-04-01T19:57:26.461051",
     "exception": false,
     "start_time": "2024-04-01T19:57:25.939499",
     "status": "completed"
    },
    "tags": []
   },
   "outputs": [
    {
     "name": "stderr",
     "output_type": "stream",
     "text": [
      "/opt/conda/lib/python3.10/site-packages/seaborn/_oldcore.py:1119: FutureWarning: use_inf_as_na option is deprecated and will be removed in a future version. Convert inf values to NaN before operating instead.\n",
      "  with pd.option_context('mode.use_inf_as_na', True):\n"
     ]
    },
    {
     "data": {
      "image/png": "[encoded data removed]",
      "text/plain": [
       "<Figure size 640x480 with 1 Axes>"
      ]
     },
     "metadata": {},
     "output_type": "display_data"
    }
   ],
   "source": [
    "sns.histplot(data=df, x=\"OBS_VALUE\", bins=30, kde=True)\n",
    "plt.xlabel(\"Time Period\")\n",
    "plt.ylabel(\"Count\")\n",
    "plt.title(\"Histogram of Time Period\")\n",
    "plt.show()"
   ]
  },
  {
   "cell_type": "code",
   "execution_count": 13,
   "id": "9adb1b4e",
   "metadata": {
    "execution": {
     "iopub.execute_input": "2024-04-01T19:57:26.475481Z",
     "iopub.status.busy": "2024-04-01T19:57:26.475114Z",
     "iopub.status.idle": "2024-04-01T19:57:26.825752Z",
     "shell.execute_reply": "2024-04-01T19:57:26.824717Z"
    },
    "papermill": {
     "duration": 0.360556,
     "end_time": "2024-04-01T19:57:26.828044",
     "exception": false,
     "start_time": "2024-04-01T19:57:26.467488",
     "status": "completed"
    },
    "tags": []
   },
   "outputs": [
    {
     "name": "stderr",
     "output_type": "stream",
     "text": [
      "/opt/conda/lib/python3.10/site-packages/seaborn/_oldcore.py:1119: FutureWarning: use_inf_as_na option is deprecated and will be removed in a future version. Convert inf values to NaN before operating instead.\n",
      "  with pd.option_context('mode.use_inf_as_na', True):\n"
     ]
    },
    {
     "data": {
      "image/png": "[encoded data removed]",
      "text/plain": [
       "<Figure size 1000x600 with 1 Axes>"
      ]
     },
     "metadata": {},
     "output_type": "display_data"
    }
   ],
   "source": [
    "value_counts = df[\"REF_AREA\"].value_counts()\n",
    "plt.figure(figsize=(10, 6)) \n",
    "sns.histplot(data=df, x=value_counts, bins=30, kde=True)\n",
    "plt.xlabel(\"Count\")\n",
    "plt.ylabel(\"Frequency\")\n",
    "plt.title(\"Histogram of Geographic Areas\")\n",
    "plt.show()"
   ]
  }
 ],
 "metadata": {
  "kaggle": {
   "accelerator": "none",
   "dataSources": [
    {
     "datasetId": 4702255,
     "sourceId": 7988035,
     "sourceType": "datasetVersion"
    }
   ],
   "dockerImageVersionId": 30673,
   "isGpuEnabled": false,
   "isInternetEnabled": true,
   "language": "python",
   "sourceType": "notebook"
  },
  "kernelspec": {
   "display_name": "Python 3",
   "language": "python",
   "name": "python3"
  },
  "language_info": {
   "codemirror_mode": {
    "name": "ipython",
    "version": 3
   },
   "file_extension": ".py",
   "mimetype": "text/x-python",
   "name": "python",
   "nbconvert_exporter": "python",
   "pygments_lexer": "ipython3",
   "version": "3.10.13"
  },
  "papermill": {
   "default_parameters": {},
   "duration": 10.444428,
   "end_time": "2024-04-01T19:57:27.557790",
   "environment_variables": {},
   "exception": null,
   "input_path": "__notebook__.ipynb",
   "output_path": "__notebook__.ipynb",
   "parameters": {},
   "start_time": "2024-04-01T19:57:17.113362",
   "version": "2.5.0"
  }
 },
 "nbformat": 4,
 "nbformat_minor": 5
}
